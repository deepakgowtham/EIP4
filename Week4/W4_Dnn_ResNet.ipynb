{
  "nbformat": 4,
  "nbformat_minor": 0,
  "metadata": {
    "colab": {
      "name": "W4_Dnn_ResNet.ipynb",
      "provenance": [],
      "collapsed_sections": []
    },
    "kernelspec": {
      "name": "python3",
      "display_name": "Python 3"
    },
    "accelerator": "GPU"
  },
  "cells": [
    {
      "cell_type": "code",
      "metadata": {
        "id": "LYhuFkd6-oZg",
        "colab_type": "code",
        "outputId": "59c68769-adbb-46f1-e631-91a1966c0f1b",
        "colab": {
          "base_uri": "https://localhost:8080/",
          "height": 100
        }
      },
      "source": [
        "from __future__ import print_function\n",
        "import keras\n",
        "from keras.layers import Dense, Conv2D, BatchNormalization, Activation\n",
        "from keras.layers import AveragePooling2D, Input, Flatten\n",
        "from keras.optimizers import Adam\n",
        "from keras.callbacks import ModelCheckpoint, LearningRateScheduler\n",
        "from keras.callbacks import ReduceLROnPlateau\n",
        "from keras.preprocessing.image import ImageDataGenerator\n",
        "from keras.regularizers import l2\n",
        "from keras import backend as K\n",
        "from keras.models import Model\n",
        "from keras.datasets import cifar10\n",
        "import numpy as np\n",
        "import os\n",
        "from keras.utils import np_utils"
      ],
      "execution_count": 1,
      "outputs": [
        {
          "output_type": "stream",
          "text": [
            "Using TensorFlow backend.\n"
          ],
          "name": "stderr"
        },
        {
          "output_type": "display_data",
          "data": {
            "text/html": [
              "<p style=\"color: red;\">\n",
              "The default version of TensorFlow in Colab will soon switch to TensorFlow 2.x.<br>\n",
              "We recommend you <a href=\"https://www.tensorflow.org/guide/migrate\" target=\"_blank\">upgrade</a> now \n",
              "or ensure your notebook will continue to use TensorFlow 1.x via the <code>%tensorflow_version 1.x</code> magic:\n",
              "<a href=\"https://colab.research.google.com/notebooks/tensorflow_version.ipynb\" target=\"_blank\">more info</a>.</p>\n"
            ],
            "text/plain": [
              "<IPython.core.display.HTML object>"
            ]
          },
          "metadata": {
            "tags": []
          }
        }
      ]
    },
    {
      "cell_type": "code",
      "metadata": {
        "id": "gm_BVd7R-yF7",
        "colab_type": "code",
        "colab": {}
      },
      "source": [
        "# Training parameters\n",
        "batch_size = 64  # orig paper trained all networks with batch_size=128\n",
        "epochs = 50\n",
        "data_augmentation = True\n",
        "num_classes = 10\n",
        "\n",
        "# Subtracting pixel mean improves accuracy\n",
        "subtract_pixel_mean = True\n",
        "\n",
        "# Model parameter\n",
        "# ----------------------------------------------------------------------------\n",
        "#           |      | 200-epoch | Orig Paper| 200-epoch | Orig Paper| sec/epoch\n",
        "# Model     |  n   | ResNet v1 | ResNet v1 | ResNet v2 | ResNet v2 | GTX1080Ti\n",
        "#           |v1(v2)| %Accuracy | %Accuracy | %Accuracy | %Accuracy | v1 (v2)\n",
        "# ----------------------------------------------------------------------------\n",
        "# ResNet20  | 3 (2)| 92.16     | 91.25     | -----     | -----     | 35 (---)\n",
        "# ResNet32  | 5(NA)| 92.46     | 92.49     | NA        | NA        | 50 ( NA)\n",
        "# ResNet44  | 7(NA)| 92.50     | 92.83     | NA        | NA        | 70 ( NA)\n",
        "# ResNet56  | 9 (6)| 92.71     | 93.03     | 93.01     | NA        | 90 (100)\n",
        "# ResNet110 |18(12)| 92.65     | 93.39+-.16| 93.15     | 93.63     | 165(180)\n",
        "# ResNet164 |27(18)| -----     | 94.07     | -----     | 94.54     | ---(---)\n",
        "# ResNet1001| (111)| -----     | 92.39     | -----     | 95.08+-.14| ---(---)\n",
        "# ---------------------------------------------------------------------------\n",
        "n = 2\n",
        "\n",
        "# Model version\n",
        "# Orig paper: version = 1 (ResNet v1), Improved ResNet: version = 2 (ResNet v2)\n",
        "version = 2\n",
        "\n",
        "# Computed depth from supplied model parameter n\n",
        "if version == 1:\n",
        "    depth = n * 6 + 2\n",
        "elif version == 2:\n",
        "    depth = n * 9 + 2\n",
        "\n",
        "# Model name, depth and version\n",
        "model_type = 'ResNet%dv%d' % (depth, version)\n",
        "\n"
      ],
      "execution_count": 0,
      "outputs": []
    },
    {
      "cell_type": "code",
      "metadata": {
        "id": "2Ay9hr_F_jZ9",
        "colab_type": "code",
        "outputId": "24500332-1af1-447b-d56a-afd37607b2ae",
        "colab": {
          "base_uri": "https://localhost:8080/",
          "height": 127
        }
      },
      "source": [
        "# Load the CIFAR10 data.\n",
        "(x_train, y_train), (x_test, y_test) = cifar10.load_data()\n",
        "\n",
        "# Input image dimensions.\n",
        "input_shape = x_train.shape[1:]\n",
        "\n",
        "# Normalize data.\n",
        "x_train = x_train.astype('float32') / 255\n",
        "x_test = x_test.astype('float32') / 255\n",
        "\n",
        "# If subtract pixel mean is enabled\n",
        "if subtract_pixel_mean:\n",
        "    x_train_mean = np.mean(x_train, axis=0)\n",
        "    x_train -= x_train_mean\n",
        "    x_test -= x_train_mean\n",
        "\n",
        "print('x_train shape:', x_train.shape)\n",
        "print(x_train.shape[0], 'train samples')\n",
        "print(x_test.shape[0], 'test samples')\n",
        "print('y_train shape:', y_train.shape)\n",
        "\n",
        "# Convert class vectors to binary class matrices.\n",
        "y_train = keras.utils.to_categorical(y_train, num_classes)\n",
        "y_test = keras.utils.to_categorical(y_test, num_classes)\n",
        "\n",
        "\n",
        "#x_train = x_train.astype('float32')/255\n",
        "#x_test = x_test.astype('float32')/255\n",
        "# convert class labels to binary class labels\n",
        "#y_train = np_utils.to_categorical(y_train, num_classes)\n",
        "#y_test = np_utils.to_categorical(y_test, num_classes)\n"
      ],
      "execution_count": 3,
      "outputs": [
        {
          "output_type": "stream",
          "text": [
            "Downloading data from https://www.cs.toronto.edu/~kriz/cifar-10-python.tar.gz\n",
            "170500096/170498071 [==============================] - 6s 0us/step\n",
            "x_train shape: (50000, 32, 32, 3)\n",
            "50000 train samples\n",
            "10000 test samples\n",
            "y_train shape: (50000, 1)\n"
          ],
          "name": "stdout"
        }
      ]
    },
    {
      "cell_type": "code",
      "metadata": {
        "id": "8BxF3gkh_wlU",
        "colab_type": "code",
        "colab": {}
      },
      "source": [
        "def lr_schedule(epoch):\n",
        "    \"\"\"Learning Rate Schedule\n",
        "\n",
        "    Learning rate is scheduled to be reduced after 80, 120, 160, 180 epochs.\n",
        "    Called automatically every epoch as part of callbacks during training.\n",
        "\n",
        "    # Arguments\n",
        "        epoch (int): The number of epochs\n",
        "\n",
        "    # Returns\n",
        "        lr (float32): learning rate\n",
        "    \"\"\"\n",
        "    lr = 1e-3\n",
        "    if epoch > 45:\n",
        "        lr *= 0.5e-3\n",
        "    elif epoch > 40:\n",
        "        lr *= 1e-3\n",
        "    elif epoch > 30:\n",
        "        lr *= 1e-2\n",
        "    elif epoch > 15:\n",
        "        lr *= 1e-1\n",
        "    print('Learning rate: ', lr)\n",
        "    return lr\n",
        "\n",
        "\n",
        "def resnet_layer(inputs,\n",
        "                 num_filters=16,\n",
        "                 kernel_size=3,\n",
        "                 strides=1,\n",
        "                 activation='relu',\n",
        "                 batch_normalization=True,\n",
        "                 conv_first=True):\n",
        "    \"\"\"2D Convolution-Batch Normalization-Activation stack builder\n",
        "\n",
        "    # Arguments\n",
        "        inputs (tensor): input tensor from input image or previous layer\n",
        "        num_filters (int): Conv2D number of filters\n",
        "        kernel_size (int): Conv2D square kernel dimensions\n",
        "        strides (int): Conv2D square stride dimensions\n",
        "        activation (string): activation name\n",
        "        batch_normalization (bool): whether to include batch normalization\n",
        "        conv_first (bool): conv-bn-activation (True) or\n",
        "            bn-activation-conv (False)\n",
        "\n",
        "    # Returns\n",
        "        x (tensor): tensor as input to the next layer\n",
        "    \"\"\"\n",
        "    conv = Conv2D(num_filters,\n",
        "                  kernel_size=kernel_size,\n",
        "                  strides=strides,\n",
        "                  padding='same',\n",
        "                  kernel_initializer='he_normal',\n",
        "                  kernel_regularizer=l2(1e-4))\n",
        "\n",
        "    x = inputs\n",
        "    if conv_first:\n",
        "        x = conv(x)\n",
        "        if batch_normalization:\n",
        "            x = BatchNormalization()(x)\n",
        "        if activation is not None:\n",
        "            x = Activation(activation)(x)\n",
        "    else:\n",
        "        if batch_normalization:\n",
        "            x = BatchNormalization()(x)\n",
        "        if activation is not None:\n",
        "            x = Activation(activation)(x)\n",
        "        x = conv(x)\n",
        "    return x"
      ],
      "execution_count": 0,
      "outputs": []
    },
    {
      "cell_type": "code",
      "metadata": {
        "id": "x-uBauM2qekH",
        "colab_type": "code",
        "colab": {}
      },
      "source": [
        "def resnet_v1(input_shape, depth, num_classes=10):\n",
        "    \"\"\"ResNet Version 1 Model builder [a]\n",
        "\n",
        "    Stacks of 2 x (3 x 3) Conv2D-BN-ReLU\n",
        "    Last ReLU is after the shortcut connection.\n",
        "    At the beginning of each stage, the feature map size is halved (downsampled)\n",
        "    by a convolutional layer with strides=2, while the number of filters is\n",
        "    doubled. Within each stage, the layers have the same number filters and the\n",
        "    same number of filters.\n",
        "    Features maps sizes:\n",
        "    stage 0: 32x32, 16\n",
        "    stage 1: 16x16, 32\n",
        "    stage 2:  8x8,  64\n",
        "    The Number of parameters is approx the same as Table 6 of [a]:\n",
        "    ResNet20 0.27M\n",
        "    ResNet32 0.46M\n",
        "    ResNet44 0.66M\n",
        "    ResNet56 0.85M\n",
        "    ResNet110 1.7M\n",
        "\n",
        "    # Arguments\n",
        "        input_shape (tensor): shape of input image tensor\n",
        "        depth (int): number of core convolutional layers\n",
        "        num_classes (int): number of classes (CIFAR10 has 10)\n",
        "\n",
        "    # Returns\n",
        "        model (Model): Keras model instance\n",
        "    \"\"\"\n",
        "    if (depth - 2) % 6 != 0:\n",
        "        raise ValueError('depth should be 6n+2 (eg 20, 32, 44 in [a])')\n",
        "    # Start model definition.\n",
        "    num_filters = 16\n",
        "    num_res_blocks = int((depth - 2) / 6)\n",
        "\n",
        "    inputs = Input(shape=input_shape)\n",
        "    x = resnet_layer(inputs=inputs)\n",
        "    # Instantiate the stack of residual units\n",
        "    for stack in range(3):\n",
        "        for res_block in range(num_res_blocks):\n",
        "            strides = 1\n",
        "            if stack > 0 and res_block == 0:  # first layer but not first stack\n",
        "                strides = 2  # downsample\n",
        "            y = resnet_layer(inputs=x,\n",
        "                             num_filters=num_filters,\n",
        "                             strides=strides)\n",
        "            y = resnet_layer(inputs=y,\n",
        "                             num_filters=num_filters,\n",
        "                             activation=None)\n",
        "            if stack > 0 and res_block == 0:  # first layer but not first stack\n",
        "                # linear projection residual shortcut connection to match\n",
        "                # changed dims\n",
        "                x = resnet_layer(inputs=x,\n",
        "                                 num_filters=num_filters,\n",
        "                                 kernel_size=1,\n",
        "                                 strides=strides,\n",
        "                                 activation=None,\n",
        "                                 batch_normalization=False)\n",
        "            x = keras.layers.add([x, y])\n",
        "            x = Activation('relu')(x)\n",
        "        num_filters *= 2\n",
        "\n",
        "    # Add classifier on top.\n",
        "    # v1 does not use BN after last shortcut connection-ReLU\n",
        "    x = AveragePooling2D(pool_size=8)(x)\n",
        "    y = Flatten()(x)\n",
        "    outputs = Dense(num_classes,\n",
        "                    activation='softmax',\n",
        "                    kernel_initializer='he_normal')(y)\n",
        "\n",
        "    # Instantiate model.\n",
        "    model = Model(inputs=inputs, outputs=outputs)\n",
        "    return model\n"
      ],
      "execution_count": 0,
      "outputs": []
    },
    {
      "cell_type": "code",
      "metadata": {
        "id": "pumf_YoIgMbK",
        "colab_type": "code",
        "colab": {}
      },
      "source": [
        "def resnet_v2(input_shape, depth, num_classes=10):\n",
        "    \"\"\"ResNet Version 2 Model builder [b]\n",
        "\n",
        "    Stacks of (1 x 1)-(3 x 3)-(1 x 1) BN-ReLU-Conv2D or also known as\n",
        "    bottleneck layer\n",
        "    First shortcut connection per layer is 1 x 1 Conv2D.\n",
        "    Second and onwards shortcut connection is identity.\n",
        "    At the beginning of each stage, the feature map size is halved (downsampled)\n",
        "    by a convolutional layer with strides=2, while the number of filter maps is\n",
        "    doubled. Within each stage, the layers have the same number filters and the\n",
        "    same filter map sizes.\n",
        "    Features maps sizes:\n",
        "    conv1  : 32x32,  16\n",
        "    stage 0: 32x32,  64\n",
        "    stage 1: 16x16, 128\n",
        "    stage 2:  8x8,  256\n",
        "\n",
        "    # Arguments\n",
        "        input_shape (tensor): shape of input image tensor\n",
        "        depth (int): number of core convolutional layers\n",
        "        num_classes (int): number of classes (CIFAR10 has 10)\n",
        "\n",
        "    # Returns\n",
        "        model (Model): Keras model instance\n",
        "    \"\"\"\n",
        "    if (depth - 2) % 9 != 0:\n",
        "        raise ValueError('depth should be 9n+2 (eg 56 or 110 in [b])')\n",
        "    # Start model definition.\n",
        "    num_filters_in = 16\n",
        "    num_res_blocks = int((depth - 2) / 9)\n",
        "\n",
        "    inputs = Input(shape=input_shape)\n",
        "    # v2 performs Conv2D with BN-ReLU on input before splitting into 2 paths\n",
        "    x = resnet_layer(inputs=inputs,\n",
        "                     num_filters=num_filters_in,\n",
        "                     conv_first=True)\n",
        "\n",
        "    # Instantiate the stack of residual units\n",
        "    for stage in range(3):\n",
        "        for res_block in range(num_res_blocks):\n",
        "            activation = 'relu'\n",
        "            batch_normalization = True\n",
        "            strides = 1\n",
        "            if stage == 0:\n",
        "                num_filters_out = num_filters_in * 4\n",
        "                if res_block == 0:  # first layer and first stage\n",
        "                    activation = None\n",
        "                    batch_normalization = False\n",
        "            else:\n",
        "                num_filters_out = num_filters_in * 2\n",
        "                if res_block == 0:  # first layer but not first stage\n",
        "                    strides = 2    # downsample\n",
        "\n",
        "            # bottleneck residual unit\n",
        "            y = resnet_layer(inputs=x,\n",
        "                             num_filters=num_filters_in,\n",
        "                             kernel_size=1,\n",
        "                             strides=strides,\n",
        "                             activation=activation,\n",
        "                             batch_normalization=batch_normalization,\n",
        "                             conv_first=False)\n",
        "            y = resnet_layer(inputs=y,\n",
        "                             num_filters=num_filters_in,\n",
        "                             conv_first=False)\n",
        "            y = resnet_layer(inputs=y,\n",
        "                             num_filters=num_filters_out,\n",
        "                             kernel_size=1,\n",
        "                             conv_first=False)\n",
        "            if res_block == 0:\n",
        "                # linear projection residual shortcut connection to match\n",
        "                # changed dims\n",
        "                x = resnet_layer(inputs=x,\n",
        "                                 num_filters=num_filters_out,\n",
        "                                 kernel_size=1,\n",
        "                                 strides=strides,\n",
        "                                 activation=None,\n",
        "                                 batch_normalization=False)\n",
        "            x = keras.layers.add([x, y])\n",
        "\n",
        "        num_filters_in = num_filters_out\n",
        "\n",
        "    # Add classifier on top.\n",
        "    # v2 has BN-ReLU before Pooling\n",
        "    x = BatchNormalization()(x)\n",
        "    x = Activation('relu')(x)\n",
        "    x = AveragePooling2D(pool_size=8)(x)\n",
        "    y = Flatten()(x)\n",
        "    outputs = Dense(num_classes,\n",
        "                    activation='softmax',\n",
        "                    kernel_initializer='he_normal')(y)\n",
        "\n",
        "    # Instantiate model.\n",
        "    model = Model(inputs=inputs, outputs=outputs)\n",
        "    return model\n",
        "\n",
        "\n"
      ],
      "execution_count": 0,
      "outputs": []
    },
    {
      "cell_type": "code",
      "metadata": {
        "id": "XBgvsjyIqY9v",
        "colab_type": "code",
        "outputId": "7a0183d8-ca4e-4a80-de1b-ea3004163a85",
        "colab": {
          "base_uri": "https://localhost:8080/",
          "height": 1000
        }
      },
      "source": [
        "if version == 2:\n",
        "    model = resnet_v2(input_shape=input_shape, depth=depth)\n",
        "else:\n",
        "    model = resnet_v1(input_shape=input_shape, depth=depth)\n",
        "\n",
        "model.compile(loss='categorical_crossentropy',\n",
        "              optimizer=Adam(lr=lr_schedule(0)),\n",
        "              metrics=['accuracy'])\n",
        "model.summary()\n",
        "print(model_type)\n",
        "\n",
        "# Prepare model model saving directory.\n",
        "save_dir = os.path.join(os.getcwd(), 'saved_models')\n",
        "model_name = 'cifar10_%s_model.{epoch:03d}.h5' % model_type\n",
        "if not os.path.isdir(save_dir):\n",
        "    os.makedirs(save_dir)\n",
        "filepath = os.path.join(save_dir, model_name)\n",
        "\n",
        "# Prepare callbacks for model saving and for learning rate adjustment.\n",
        "checkpoint = ModelCheckpoint(filepath=filepath,\n",
        "                             monitor='val_acc',\n",
        "                             verbose=1,\n",
        "                             save_best_only=True)\n",
        "\n",
        "lr_scheduler = LearningRateScheduler(lr_schedule)\n",
        "\n",
        "lr_reducer = ReduceLROnPlateau(factor=np.sqrt(0.1),\n",
        "                               cooldown=0,\n",
        "                               patience=5,\n",
        "                               min_lr=0.5e-6)\n",
        "\n",
        "callbacks = [checkpoint, lr_reducer, lr_scheduler]\n",
        "\n"
      ],
      "execution_count": 7,
      "outputs": [
        {
          "output_type": "stream",
          "text": [
            "WARNING:tensorflow:From /usr/local/lib/python3.6/dist-packages/keras/backend/tensorflow_backend.py:66: The name tf.get_default_graph is deprecated. Please use tf.compat.v1.get_default_graph instead.\n",
            "\n",
            "WARNING:tensorflow:From /usr/local/lib/python3.6/dist-packages/keras/backend/tensorflow_backend.py:541: The name tf.placeholder is deprecated. Please use tf.compat.v1.placeholder instead.\n",
            "\n",
            "WARNING:tensorflow:From /usr/local/lib/python3.6/dist-packages/keras/backend/tensorflow_backend.py:4479: The name tf.truncated_normal is deprecated. Please use tf.random.truncated_normal instead.\n",
            "\n",
            "WARNING:tensorflow:From /usr/local/lib/python3.6/dist-packages/keras/backend/tensorflow_backend.py:190: The name tf.get_default_session is deprecated. Please use tf.compat.v1.get_default_session instead.\n",
            "\n",
            "WARNING:tensorflow:From /usr/local/lib/python3.6/dist-packages/keras/backend/tensorflow_backend.py:197: The name tf.ConfigProto is deprecated. Please use tf.compat.v1.ConfigProto instead.\n",
            "\n",
            "WARNING:tensorflow:From /usr/local/lib/python3.6/dist-packages/keras/backend/tensorflow_backend.py:203: The name tf.Session is deprecated. Please use tf.compat.v1.Session instead.\n",
            "\n",
            "WARNING:tensorflow:From /usr/local/lib/python3.6/dist-packages/keras/backend/tensorflow_backend.py:207: The name tf.global_variables is deprecated. Please use tf.compat.v1.global_variables instead.\n",
            "\n",
            "WARNING:tensorflow:From /usr/local/lib/python3.6/dist-packages/keras/backend/tensorflow_backend.py:216: The name tf.is_variable_initialized is deprecated. Please use tf.compat.v1.is_variable_initialized instead.\n",
            "\n",
            "WARNING:tensorflow:From /usr/local/lib/python3.6/dist-packages/keras/backend/tensorflow_backend.py:223: The name tf.variables_initializer is deprecated. Please use tf.compat.v1.variables_initializer instead.\n",
            "\n",
            "WARNING:tensorflow:From /usr/local/lib/python3.6/dist-packages/keras/backend/tensorflow_backend.py:2041: The name tf.nn.fused_batch_norm is deprecated. Please use tf.compat.v1.nn.fused_batch_norm instead.\n",
            "\n",
            "WARNING:tensorflow:From /usr/local/lib/python3.6/dist-packages/keras/backend/tensorflow_backend.py:148: The name tf.placeholder_with_default is deprecated. Please use tf.compat.v1.placeholder_with_default instead.\n",
            "\n",
            "WARNING:tensorflow:From /usr/local/lib/python3.6/dist-packages/keras/backend/tensorflow_backend.py:4271: The name tf.nn.avg_pool is deprecated. Please use tf.nn.avg_pool2d instead.\n",
            "\n",
            "Learning rate:  0.001\n",
            "WARNING:tensorflow:From /usr/local/lib/python3.6/dist-packages/keras/optimizers.py:793: The name tf.train.Optimizer is deprecated. Please use tf.compat.v1.train.Optimizer instead.\n",
            "\n",
            "WARNING:tensorflow:From /usr/local/lib/python3.6/dist-packages/keras/backend/tensorflow_backend.py:3576: The name tf.log is deprecated. Please use tf.math.log instead.\n",
            "\n",
            "Model: \"model_1\"\n",
            "__________________________________________________________________________________________________\n",
            "Layer (type)                    Output Shape         Param #     Connected to                     \n",
            "==================================================================================================\n",
            "input_1 (InputLayer)            (None, 32, 32, 3)    0                                            \n",
            "__________________________________________________________________________________________________\n",
            "conv2d_1 (Conv2D)               (None, 32, 32, 16)   448         input_1[0][0]                    \n",
            "__________________________________________________________________________________________________\n",
            "batch_normalization_1 (BatchNor (None, 32, 32, 16)   64          conv2d_1[0][0]                   \n",
            "__________________________________________________________________________________________________\n",
            "activation_1 (Activation)       (None, 32, 32, 16)   0           batch_normalization_1[0][0]      \n",
            "__________________________________________________________________________________________________\n",
            "conv2d_2 (Conv2D)               (None, 32, 32, 16)   272         activation_1[0][0]               \n",
            "__________________________________________________________________________________________________\n",
            "batch_normalization_2 (BatchNor (None, 32, 32, 16)   64          conv2d_2[0][0]                   \n",
            "__________________________________________________________________________________________________\n",
            "activation_2 (Activation)       (None, 32, 32, 16)   0           batch_normalization_2[0][0]      \n",
            "__________________________________________________________________________________________________\n",
            "conv2d_3 (Conv2D)               (None, 32, 32, 16)   2320        activation_2[0][0]               \n",
            "__________________________________________________________________________________________________\n",
            "batch_normalization_3 (BatchNor (None, 32, 32, 16)   64          conv2d_3[0][0]                   \n",
            "__________________________________________________________________________________________________\n",
            "activation_3 (Activation)       (None, 32, 32, 16)   0           batch_normalization_3[0][0]      \n",
            "__________________________________________________________________________________________________\n",
            "conv2d_5 (Conv2D)               (None, 32, 32, 64)   1088        activation_1[0][0]               \n",
            "__________________________________________________________________________________________________\n",
            "conv2d_4 (Conv2D)               (None, 32, 32, 64)   1088        activation_3[0][0]               \n",
            "__________________________________________________________________________________________________\n",
            "add_1 (Add)                     (None, 32, 32, 64)   0           conv2d_5[0][0]                   \n",
            "                                                                 conv2d_4[0][0]                   \n",
            "__________________________________________________________________________________________________\n",
            "batch_normalization_4 (BatchNor (None, 32, 32, 64)   256         add_1[0][0]                      \n",
            "__________________________________________________________________________________________________\n",
            "activation_4 (Activation)       (None, 32, 32, 64)   0           batch_normalization_4[0][0]      \n",
            "__________________________________________________________________________________________________\n",
            "conv2d_6 (Conv2D)               (None, 32, 32, 16)   1040        activation_4[0][0]               \n",
            "__________________________________________________________________________________________________\n",
            "batch_normalization_5 (BatchNor (None, 32, 32, 16)   64          conv2d_6[0][0]                   \n",
            "__________________________________________________________________________________________________\n",
            "activation_5 (Activation)       (None, 32, 32, 16)   0           batch_normalization_5[0][0]      \n",
            "__________________________________________________________________________________________________\n",
            "conv2d_7 (Conv2D)               (None, 32, 32, 16)   2320        activation_5[0][0]               \n",
            "__________________________________________________________________________________________________\n",
            "batch_normalization_6 (BatchNor (None, 32, 32, 16)   64          conv2d_7[0][0]                   \n",
            "__________________________________________________________________________________________________\n",
            "activation_6 (Activation)       (None, 32, 32, 16)   0           batch_normalization_6[0][0]      \n",
            "__________________________________________________________________________________________________\n",
            "conv2d_8 (Conv2D)               (None, 32, 32, 64)   1088        activation_6[0][0]               \n",
            "__________________________________________________________________________________________________\n",
            "add_2 (Add)                     (None, 32, 32, 64)   0           add_1[0][0]                      \n",
            "                                                                 conv2d_8[0][0]                   \n",
            "__________________________________________________________________________________________________\n",
            "batch_normalization_7 (BatchNor (None, 32, 32, 64)   256         add_2[0][0]                      \n",
            "__________________________________________________________________________________________________\n",
            "activation_7 (Activation)       (None, 32, 32, 64)   0           batch_normalization_7[0][0]      \n",
            "__________________________________________________________________________________________________\n",
            "conv2d_9 (Conv2D)               (None, 16, 16, 64)   4160        activation_7[0][0]               \n",
            "__________________________________________________________________________________________________\n",
            "batch_normalization_8 (BatchNor (None, 16, 16, 64)   256         conv2d_9[0][0]                   \n",
            "__________________________________________________________________________________________________\n",
            "activation_8 (Activation)       (None, 16, 16, 64)   0           batch_normalization_8[0][0]      \n",
            "__________________________________________________________________________________________________\n",
            "conv2d_10 (Conv2D)              (None, 16, 16, 64)   36928       activation_8[0][0]               \n",
            "__________________________________________________________________________________________________\n",
            "batch_normalization_9 (BatchNor (None, 16, 16, 64)   256         conv2d_10[0][0]                  \n",
            "__________________________________________________________________________________________________\n",
            "activation_9 (Activation)       (None, 16, 16, 64)   0           batch_normalization_9[0][0]      \n",
            "__________________________________________________________________________________________________\n",
            "conv2d_12 (Conv2D)              (None, 16, 16, 128)  8320        add_2[0][0]                      \n",
            "__________________________________________________________________________________________________\n",
            "conv2d_11 (Conv2D)              (None, 16, 16, 128)  8320        activation_9[0][0]               \n",
            "__________________________________________________________________________________________________\n",
            "add_3 (Add)                     (None, 16, 16, 128)  0           conv2d_12[0][0]                  \n",
            "                                                                 conv2d_11[0][0]                  \n",
            "__________________________________________________________________________________________________\n",
            "batch_normalization_10 (BatchNo (None, 16, 16, 128)  512         add_3[0][0]                      \n",
            "__________________________________________________________________________________________________\n",
            "activation_10 (Activation)      (None, 16, 16, 128)  0           batch_normalization_10[0][0]     \n",
            "__________________________________________________________________________________________________\n",
            "conv2d_13 (Conv2D)              (None, 16, 16, 64)   8256        activation_10[0][0]              \n",
            "__________________________________________________________________________________________________\n",
            "batch_normalization_11 (BatchNo (None, 16, 16, 64)   256         conv2d_13[0][0]                  \n",
            "__________________________________________________________________________________________________\n",
            "activation_11 (Activation)      (None, 16, 16, 64)   0           batch_normalization_11[0][0]     \n",
            "__________________________________________________________________________________________________\n",
            "conv2d_14 (Conv2D)              (None, 16, 16, 64)   36928       activation_11[0][0]              \n",
            "__________________________________________________________________________________________________\n",
            "batch_normalization_12 (BatchNo (None, 16, 16, 64)   256         conv2d_14[0][0]                  \n",
            "__________________________________________________________________________________________________\n",
            "activation_12 (Activation)      (None, 16, 16, 64)   0           batch_normalization_12[0][0]     \n",
            "__________________________________________________________________________________________________\n",
            "conv2d_15 (Conv2D)              (None, 16, 16, 128)  8320        activation_12[0][0]              \n",
            "__________________________________________________________________________________________________\n",
            "add_4 (Add)                     (None, 16, 16, 128)  0           add_3[0][0]                      \n",
            "                                                                 conv2d_15[0][0]                  \n",
            "__________________________________________________________________________________________________\n",
            "batch_normalization_13 (BatchNo (None, 16, 16, 128)  512         add_4[0][0]                      \n",
            "__________________________________________________________________________________________________\n",
            "activation_13 (Activation)      (None, 16, 16, 128)  0           batch_normalization_13[0][0]     \n",
            "__________________________________________________________________________________________________\n",
            "conv2d_16 (Conv2D)              (None, 8, 8, 128)    16512       activation_13[0][0]              \n",
            "__________________________________________________________________________________________________\n",
            "batch_normalization_14 (BatchNo (None, 8, 8, 128)    512         conv2d_16[0][0]                  \n",
            "__________________________________________________________________________________________________\n",
            "activation_14 (Activation)      (None, 8, 8, 128)    0           batch_normalization_14[0][0]     \n",
            "__________________________________________________________________________________________________\n",
            "conv2d_17 (Conv2D)              (None, 8, 8, 128)    147584      activation_14[0][0]              \n",
            "__________________________________________________________________________________________________\n",
            "batch_normalization_15 (BatchNo (None, 8, 8, 128)    512         conv2d_17[0][0]                  \n",
            "__________________________________________________________________________________________________\n",
            "activation_15 (Activation)      (None, 8, 8, 128)    0           batch_normalization_15[0][0]     \n",
            "__________________________________________________________________________________________________\n",
            "conv2d_19 (Conv2D)              (None, 8, 8, 256)    33024       add_4[0][0]                      \n",
            "__________________________________________________________________________________________________\n",
            "conv2d_18 (Conv2D)              (None, 8, 8, 256)    33024       activation_15[0][0]              \n",
            "__________________________________________________________________________________________________\n",
            "add_5 (Add)                     (None, 8, 8, 256)    0           conv2d_19[0][0]                  \n",
            "                                                                 conv2d_18[0][0]                  \n",
            "__________________________________________________________________________________________________\n",
            "batch_normalization_16 (BatchNo (None, 8, 8, 256)    1024        add_5[0][0]                      \n",
            "__________________________________________________________________________________________________\n",
            "activation_16 (Activation)      (None, 8, 8, 256)    0           batch_normalization_16[0][0]     \n",
            "__________________________________________________________________________________________________\n",
            "conv2d_20 (Conv2D)              (None, 8, 8, 128)    32896       activation_16[0][0]              \n",
            "__________________________________________________________________________________________________\n",
            "batch_normalization_17 (BatchNo (None, 8, 8, 128)    512         conv2d_20[0][0]                  \n",
            "__________________________________________________________________________________________________\n",
            "activation_17 (Activation)      (None, 8, 8, 128)    0           batch_normalization_17[0][0]     \n",
            "__________________________________________________________________________________________________\n",
            "conv2d_21 (Conv2D)              (None, 8, 8, 128)    147584      activation_17[0][0]              \n",
            "__________________________________________________________________________________________________\n",
            "batch_normalization_18 (BatchNo (None, 8, 8, 128)    512         conv2d_21[0][0]                  \n",
            "__________________________________________________________________________________________________\n",
            "activation_18 (Activation)      (None, 8, 8, 128)    0           batch_normalization_18[0][0]     \n",
            "__________________________________________________________________________________________________\n",
            "conv2d_22 (Conv2D)              (None, 8, 8, 256)    33024       activation_18[0][0]              \n",
            "__________________________________________________________________________________________________\n",
            "add_6 (Add)                     (None, 8, 8, 256)    0           add_5[0][0]                      \n",
            "                                                                 conv2d_22[0][0]                  \n",
            "__________________________________________________________________________________________________\n",
            "batch_normalization_19 (BatchNo (None, 8, 8, 256)    1024        add_6[0][0]                      \n",
            "__________________________________________________________________________________________________\n",
            "activation_19 (Activation)      (None, 8, 8, 256)    0           batch_normalization_19[0][0]     \n",
            "__________________________________________________________________________________________________\n",
            "average_pooling2d_1 (AveragePoo (None, 1, 1, 256)    0           activation_19[0][0]              \n",
            "__________________________________________________________________________________________________\n",
            "flatten_1 (Flatten)             (None, 256)          0           average_pooling2d_1[0][0]        \n",
            "__________________________________________________________________________________________________\n",
            "dense_1 (Dense)                 (None, 10)           2570        flatten_1[0][0]                  \n",
            "==================================================================================================\n",
            "Total params: 574,090\n",
            "Trainable params: 570,602\n",
            "Non-trainable params: 3,488\n",
            "__________________________________________________________________________________________________\n",
            "ResNet20v2\n"
          ],
          "name": "stdout"
        }
      ]
    },
    {
      "cell_type": "code",
      "metadata": {
        "id": "pO78N19jExSo",
        "colab_type": "code",
        "outputId": "a0ebcc60-ebfa-4ff9-a8c0-86f60b7574cc",
        "colab": {
          "base_uri": "https://localhost:8080/",
          "height": 1000
        }
      },
      "source": [
        "# Run training, with or without data augmentation.\n",
        "if not data_augmentation:\n",
        "    print('Not using data augmentation.')\n",
        "    model.fit(x_train, y_train,\n",
        "              batch_size=batch_size,\n",
        "              epochs=epochs,\n",
        "              validation_data=(x_test, y_test),\n",
        "              shuffle=True,\n",
        "              callbacks=callbacks)\n",
        "else:\n",
        "    print('Using real-time data augmentation.')\n",
        "    # This will do preprocessing and realtime data augmentation:\n",
        "    datagen = ImageDataGenerator(\n",
        "        # set input mean to 0 over the dataset\n",
        "        featurewise_center=False,\n",
        "        # set each sample mean to 0\n",
        "        samplewise_center=False,\n",
        "        # divide inputs by std of dataset\n",
        "        featurewise_std_normalization=False,\n",
        "        # divide each input by its std\n",
        "        samplewise_std_normalization=False,\n",
        "        # apply ZCA whitening\n",
        "        zca_whitening=False,\n",
        "        # epsilon for ZCA whitening\n",
        "        zca_epsilon=1e-06,\n",
        "        # randomly rotate images in the range (deg 0 to 180)\n",
        "        rotation_range=0,\n",
        "        # randomly shift images horizontally\n",
        "        width_shift_range=0.1,\n",
        "        # randomly shift images vertically\n",
        "        height_shift_range=0.1,\n",
        "        # set range for random shear\n",
        "        shear_range=0.,\n",
        "        # set range for random zoom\n",
        "        zoom_range=0.,\n",
        "        # set range for random channel shifts\n",
        "        channel_shift_range=0.,\n",
        "        # set mode for filling points outside the input boundaries\n",
        "        fill_mode='nearest',\n",
        "        # value used for fill_mode = \"constant\"\n",
        "        cval=0.,\n",
        "        # randomly flip images\n",
        "        horizontal_flip=True,\n",
        "        # randomly flip images\n",
        "        vertical_flip=False,\n",
        "        # set rescaling factor (applied before any other transformation)\n",
        "        rescale=None,\n",
        "        # set function that will be applied on each input\n",
        "        preprocessing_function=None,\n",
        "        # image data format, either \"channels_first\" or \"channels_last\"\n",
        "        data_format=None,\n",
        "        # fraction of images reserved for validation (strictly between 0 and 1)\n",
        "        validation_split=0.0)\n",
        "\n",
        "    # Compute quantities required for featurewise normalization\n",
        "    # (std, mean, and principal components if ZCA whitening is applied).\n",
        "    datagen.fit(x_train)\n",
        "\n",
        "    # Fit the model on the batches generated by datagen.flow().\n",
        "    model.fit_generator(datagen.flow(x_train, y_train, batch_size=batch_size),\n",
        "                        validation_data=(x_test, y_test),\n",
        "                        epochs=epochs, verbose=1, workers=-1,\n",
        "                        callbacks=callbacks)\n",
        "\n",
        "# Score trained model.\n",
        "scores = model.evaluate(x_test, y_test, verbose=1)\n",
        "print('Test loss:', scores[0])\n",
        "print('Test accuracy:', scores[1])"
      ],
      "execution_count": 0,
      "outputs": [
        {
          "output_type": "stream",
          "text": [
            "Using real-time data augmentation.\n",
            "WARNING:tensorflow:From /usr/local/lib/python3.6/dist-packages/tensorflow_core/python/ops/math_grad.py:1424: where (from tensorflow.python.ops.array_ops) is deprecated and will be removed in a future version.\n",
            "Instructions for updating:\n",
            "Use tf.where in 2.0, which has the same broadcast rule as np.where\n",
            "WARNING:tensorflow:From /usr/local/lib/python3.6/dist-packages/keras/backend/tensorflow_backend.py:1033: The name tf.assign_add is deprecated. Please use tf.compat.v1.assign_add instead.\n",
            "\n",
            "WARNING:tensorflow:From /usr/local/lib/python3.6/dist-packages/keras/backend/tensorflow_backend.py:1020: The name tf.assign is deprecated. Please use tf.compat.v1.assign instead.\n",
            "\n",
            "Epoch 1/50\n",
            "Learning rate:  0.001\n",
            "782/782 [==============================] - 199s 254ms/step - loss: 1.8046 - acc: 0.4809 - val_loss: 1.8237 - val_acc: 0.4752\n",
            "\n",
            "Epoch 00001: val_acc improved from -inf to 0.47520, saving model to /content/saved_models/cifar10_ResNet20v2_model.001.h5\n",
            "Epoch 2/50\n",
            "Learning rate:  0.001\n",
            "782/782 [==============================] - 184s 235ms/step - loss: 1.3853 - acc: 0.6163 - val_loss: 1.4734 - val_acc: 0.5886\n",
            "\n",
            "Epoch 00002: val_acc improved from 0.47520 to 0.58860, saving model to /content/saved_models/cifar10_ResNet20v2_model.002.h5\n",
            "Epoch 3/50\n",
            "Learning rate:  0.001\n",
            "782/782 [==============================] - 183s 234ms/step - loss: 1.2028 - acc: 0.6728 - val_loss: 1.4317 - val_acc: 0.6031\n",
            "\n",
            "Epoch 00003: val_acc improved from 0.58860 to 0.60310, saving model to /content/saved_models/cifar10_ResNet20v2_model.003.h5\n",
            "Epoch 4/50\n",
            "Learning rate:  0.001\n",
            "782/782 [==============================] - 182s 233ms/step - loss: 1.0810 - acc: 0.7118 - val_loss: 1.2513 - val_acc: 0.6712\n",
            "\n",
            "Epoch 00004: val_acc improved from 0.60310 to 0.67120, saving model to /content/saved_models/cifar10_ResNet20v2_model.004.h5\n",
            "Epoch 5/50\n",
            "Learning rate:  0.001\n",
            "782/782 [==============================] - 187s 239ms/step - loss: 0.9906 - acc: 0.7458 - val_loss: 1.2076 - val_acc: 0.6642\n",
            "\n",
            "Epoch 00005: val_acc did not improve from 0.67120\n",
            "Epoch 6/50\n",
            "Learning rate:  0.001\n",
            "782/782 [==============================] - 188s 240ms/step - loss: 0.9353 - acc: 0.7610 - val_loss: 1.0248 - val_acc: 0.7314\n",
            "\n",
            "Epoch 00006: val_acc improved from 0.67120 to 0.73140, saving model to /content/saved_models/cifar10_ResNet20v2_model.006.h5\n",
            "Epoch 7/50\n",
            "Learning rate:  0.001\n",
            "782/782 [==============================] - 185s 236ms/step - loss: 0.8810 - acc: 0.7773 - val_loss: 1.1197 - val_acc: 0.7017\n",
            "\n",
            "Epoch 00007: val_acc did not improve from 0.73140\n",
            "Epoch 8/50\n",
            "Learning rate:  0.001\n",
            "782/782 [==============================] - 183s 234ms/step - loss: 0.8443 - acc: 0.7874 - val_loss: 1.0594 - val_acc: 0.7249\n",
            "\n",
            "Epoch 00008: val_acc did not improve from 0.73140\n",
            "Epoch 9/50\n",
            "Learning rate:  0.001\n",
            "782/782 [==============================] - 177s 226ms/step - loss: 0.8163 - acc: 0.7982 - val_loss: 1.1190 - val_acc: 0.7147\n",
            "\n",
            "Epoch 00009: val_acc did not improve from 0.73140\n",
            "Epoch 10/50\n",
            "Learning rate:  0.001\n",
            "782/782 [==============================] - 185s 236ms/step - loss: 0.7866 - acc: 0.8082 - val_loss: 1.4116 - val_acc: 0.6527\n",
            "\n",
            "Epoch 00010: val_acc did not improve from 0.73140\n",
            "Epoch 11/50\n",
            "Learning rate:  0.001\n",
            "782/782 [==============================] - 186s 238ms/step - loss: 0.7672 - acc: 0.8141 - val_loss: 0.8762 - val_acc: 0.7736\n",
            "\n",
            "Epoch 00011: val_acc improved from 0.73140 to 0.77360, saving model to /content/saved_models/cifar10_ResNet20v2_model.011.h5\n",
            "Epoch 12/50\n",
            "Learning rate:  0.001\n",
            "782/782 [==============================] - 187s 239ms/step - loss: 0.7434 - acc: 0.8215 - val_loss: 0.8706 - val_acc: 0.7855\n",
            "\n",
            "Epoch 00012: val_acc improved from 0.77360 to 0.78550, saving model to /content/saved_models/cifar10_ResNet20v2_model.012.h5\n",
            "Epoch 13/50\n",
            "Learning rate:  0.001\n",
            "782/782 [==============================] - 184s 235ms/step - loss: 0.7271 - acc: 0.8268 - val_loss: 0.9537 - val_acc: 0.7740\n",
            "\n",
            "Epoch 00013: val_acc did not improve from 0.78550\n",
            "Epoch 14/50\n",
            "Learning rate:  0.001\n",
            "782/782 [==============================] - 183s 234ms/step - loss: 0.7115 - acc: 0.8322 - val_loss: 1.1096 - val_acc: 0.7389\n",
            "\n",
            "Epoch 00014: val_acc did not improve from 0.78550\n",
            "Epoch 15/50\n",
            "Learning rate:  0.001\n",
            "782/782 [==============================] - 183s 234ms/step - loss: 0.7004 - acc: 0.8351 - val_loss: 1.0244 - val_acc: 0.7542\n",
            "\n",
            "Epoch 00015: val_acc did not improve from 0.78550\n",
            "Epoch 16/50\n",
            "Learning rate:  0.001\n",
            "782/782 [==============================] - 181s 231ms/step - loss: 0.6803 - acc: 0.8416 - val_loss: 1.0080 - val_acc: 0.7577\n",
            "\n",
            "Epoch 00016: val_acc did not improve from 0.78550\n",
            "Epoch 17/50\n",
            "Learning rate:  0.0001\n",
            "782/782 [==============================] - 181s 231ms/step - loss: 0.5748 - acc: 0.8773 - val_loss: 0.6244 - val_acc: 0.8613\n",
            "\n",
            "Epoch 00017: val_acc improved from 0.78550 to 0.86130, saving model to /content/saved_models/cifar10_ResNet20v2_model.017.h5\n",
            "Epoch 18/50\n",
            "Learning rate:  0.0001\n",
            "782/782 [==============================] - 183s 234ms/step - loss: 0.5373 - acc: 0.8899 - val_loss: 0.6178 - val_acc: 0.8619\n",
            "\n",
            "Epoch 00018: val_acc improved from 0.86130 to 0.86190, saving model to /content/saved_models/cifar10_ResNet20v2_model.018.h5\n",
            "Epoch 19/50\n",
            "Learning rate:  0.0001\n",
            "782/782 [==============================] - 184s 236ms/step - loss: 0.5164 - acc: 0.8952 - val_loss: 0.6150 - val_acc: 0.8644\n",
            "\n",
            "Epoch 00019: val_acc improved from 0.86190 to 0.86440, saving model to /content/saved_models/cifar10_ResNet20v2_model.019.h5\n",
            "Epoch 20/50\n",
            "Learning rate:  0.0001\n",
            "782/782 [==============================] - 183s 234ms/step - loss: 0.5021 - acc: 0.8993 - val_loss: 0.6023 - val_acc: 0.8657\n",
            "\n",
            "Epoch 00020: val_acc improved from 0.86440 to 0.86570, saving model to /content/saved_models/cifar10_ResNet20v2_model.020.h5\n",
            "Epoch 21/50\n",
            "Learning rate:  0.0001\n",
            "782/782 [==============================] - 186s 238ms/step - loss: 0.4923 - acc: 0.9006 - val_loss: 0.5999 - val_acc: 0.8669\n",
            "\n",
            "Epoch 00021: val_acc improved from 0.86570 to 0.86690, saving model to /content/saved_models/cifar10_ResNet20v2_model.021.h5\n",
            "Epoch 22/50\n",
            "Learning rate:  0.0001\n",
            "782/782 [==============================] - 184s 235ms/step - loss: 0.4790 - acc: 0.9046 - val_loss: 0.5761 - val_acc: 0.8745\n",
            "\n",
            "Epoch 00022: val_acc improved from 0.86690 to 0.87450, saving model to /content/saved_models/cifar10_ResNet20v2_model.022.h5\n",
            "Epoch 23/50\n",
            "Learning rate:  0.0001\n",
            "782/782 [==============================] - 184s 235ms/step - loss: 0.4713 - acc: 0.9063 - val_loss: 0.5814 - val_acc: 0.8732\n",
            "\n",
            "Epoch 00023: val_acc did not improve from 0.87450\n",
            "Epoch 24/50\n",
            "Learning rate:  0.0001\n",
            "782/782 [==============================] - 183s 234ms/step - loss: 0.4598 - acc: 0.9082 - val_loss: 0.5722 - val_acc: 0.8720\n",
            "\n",
            "Epoch 00024: val_acc did not improve from 0.87450\n",
            "Epoch 25/50\n",
            "Learning rate:  0.0001\n",
            "782/782 [==============================] - 183s 235ms/step - loss: 0.4534 - acc: 0.9111 - val_loss: 0.5722 - val_acc: 0.8718\n",
            "\n",
            "Epoch 00025: val_acc did not improve from 0.87450\n",
            "Epoch 26/50\n",
            "Learning rate:  0.0001\n",
            "782/782 [==============================] - 185s 236ms/step - loss: 0.4453 - acc: 0.9119 - val_loss: 0.5837 - val_acc: 0.8705\n",
            "\n",
            "Epoch 00026: val_acc did not improve from 0.87450\n",
            "Epoch 27/50\n",
            "Learning rate:  0.0001\n",
            "782/782 [==============================] - 185s 236ms/step - loss: 0.4378 - acc: 0.9142 - val_loss: 0.5643 - val_acc: 0.8728\n",
            "\n",
            "Epoch 00027: val_acc did not improve from 0.87450\n",
            "Epoch 28/50\n",
            "Learning rate:  0.0001\n",
            "782/782 [==============================] - 185s 237ms/step - loss: 0.4285 - acc: 0.9171 - val_loss: 0.5731 - val_acc: 0.8739\n",
            "\n",
            "Epoch 00028: val_acc did not improve from 0.87450\n",
            "Epoch 29/50\n",
            "Learning rate:  0.0001\n",
            "782/782 [==============================] - 186s 238ms/step - loss: 0.4213 - acc: 0.9183 - val_loss: 0.5957 - val_acc: 0.8666\n",
            "\n",
            "Epoch 00029: val_acc did not improve from 0.87450\n",
            "Epoch 30/50\n",
            "Learning rate:  0.0001\n",
            "782/782 [==============================] - 186s 238ms/step - loss: 0.4201 - acc: 0.9175 - val_loss: 0.5513 - val_acc: 0.8800\n",
            "\n",
            "Epoch 00030: val_acc improved from 0.87450 to 0.88000, saving model to /content/saved_models/cifar10_ResNet20v2_model.030.h5\n",
            "Epoch 31/50\n",
            "Learning rate:  0.0001\n",
            "782/782 [==============================] - 181s 232ms/step - loss: 0.4109 - acc: 0.9214 - val_loss: 0.5670 - val_acc: 0.8762\n",
            "\n",
            "Epoch 00031: val_acc did not improve from 0.88000\n",
            "Epoch 32/50\n",
            "Learning rate:  1e-05\n",
            "782/782 [==============================] - 182s 233ms/step - loss: 0.3937 - acc: 0.9278 - val_loss: 0.5407 - val_acc: 0.8802\n",
            "\n",
            "Epoch 00032: val_acc improved from 0.88000 to 0.88020, saving model to /content/saved_models/cifar10_ResNet20v2_model.032.h5\n",
            "Epoch 33/50\n",
            "Learning rate:  1e-05\n",
            "782/782 [==============================] - 186s 237ms/step - loss: 0.3905 - acc: 0.9284 - val_loss: 0.5376 - val_acc: 0.8814\n",
            "\n",
            "Epoch 00033: val_acc improved from 0.88020 to 0.88140, saving model to /content/saved_models/cifar10_ResNet20v2_model.033.h5\n",
            "Epoch 34/50\n",
            "Learning rate:  1e-05\n",
            "782/782 [==============================] - 189s 242ms/step - loss: 0.3897 - acc: 0.9277 - val_loss: 0.5362 - val_acc: 0.8825\n",
            "\n",
            "Epoch 00034: val_acc improved from 0.88140 to 0.88250, saving model to /content/saved_models/cifar10_ResNet20v2_model.034.h5\n",
            "Epoch 35/50\n",
            "Learning rate:  1e-05\n",
            "782/782 [==============================] - 186s 238ms/step - loss: 0.3878 - acc: 0.9280 - val_loss: 0.5375 - val_acc: 0.8820\n",
            "\n",
            "Epoch 00035: val_acc did not improve from 0.88250\n",
            "Epoch 36/50\n",
            "Learning rate:  1e-05\n",
            "782/782 [==============================] - 188s 241ms/step - loss: 0.3841 - acc: 0.9286 - val_loss: 0.5354 - val_acc: 0.8821\n",
            "\n",
            "Epoch 00036: val_acc did not improve from 0.88250\n",
            "Epoch 37/50\n",
            "Learning rate:  1e-05\n",
            "782/782 [==============================] - 192s 245ms/step - loss: 0.3836 - acc: 0.9298 - val_loss: 0.5342 - val_acc: 0.8833\n",
            "\n",
            "Epoch 00037: val_acc improved from 0.88250 to 0.88330, saving model to /content/saved_models/cifar10_ResNet20v2_model.037.h5\n",
            "Epoch 38/50\n",
            "Learning rate:  1e-05\n",
            "782/782 [==============================] - 187s 239ms/step - loss: 0.3854 - acc: 0.9307 - val_loss: 0.5352 - val_acc: 0.8835\n",
            "\n",
            "Epoch 00038: val_acc improved from 0.88330 to 0.88350, saving model to /content/saved_models/cifar10_ResNet20v2_model.038.h5\n",
            "Epoch 39/50\n",
            "Learning rate:  1e-05\n",
            "782/782 [==============================] - 187s 239ms/step - loss: 0.3814 - acc: 0.9305 - val_loss: 0.5328 - val_acc: 0.8843\n",
            "\n",
            "Epoch 00039: val_acc improved from 0.88350 to 0.88430, saving model to /content/saved_models/cifar10_ResNet20v2_model.039.h5\n",
            "Epoch 40/50\n",
            "Learning rate:  1e-05\n",
            "782/782 [==============================] - 188s 240ms/step - loss: 0.3805 - acc: 0.9312 - val_loss: 0.5331 - val_acc: 0.8831\n",
            "\n",
            "Epoch 00040: val_acc did not improve from 0.88430\n",
            "Epoch 41/50\n",
            "Learning rate:  1e-05\n",
            "782/782 [==============================] - 188s 240ms/step - loss: 0.3785 - acc: 0.9315 - val_loss: 0.5363 - val_acc: 0.8831\n",
            "\n",
            "Epoch 00041: val_acc did not improve from 0.88430\n",
            "Epoch 42/50\n",
            "Learning rate:  1e-06\n",
            "782/782 [==============================] - 191s 244ms/step - loss: 0.3791 - acc: 0.9301 - val_loss: 0.5334 - val_acc: 0.8844\n",
            "\n",
            "Epoch 00042: val_acc improved from 0.88430 to 0.88440, saving model to /content/saved_models/cifar10_ResNet20v2_model.042.h5\n",
            "Epoch 43/50\n",
            "Learning rate:  1e-06\n",
            "782/782 [==============================] - 186s 238ms/step - loss: 0.3760 - acc: 0.9325 - val_loss: 0.5350 - val_acc: 0.8839\n",
            "\n",
            "Epoch 00043: val_acc did not improve from 0.88440\n",
            "Epoch 44/50\n",
            "Learning rate:  1e-06\n",
            "782/782 [==============================] - 184s 235ms/step - loss: 0.3765 - acc: 0.9324 - val_loss: 0.5337 - val_acc: 0.8837\n",
            "\n",
            "Epoch 00044: val_acc did not improve from 0.88440\n",
            "Epoch 45/50\n",
            "Learning rate:  1e-06\n",
            "782/782 [==============================] - 185s 237ms/step - loss: 0.3798 - acc: 0.9305 - val_loss: 0.5338 - val_acc: 0.8846\n",
            "\n",
            "Epoch 00045: val_acc improved from 0.88440 to 0.88460, saving model to /content/saved_models/cifar10_ResNet20v2_model.045.h5\n",
            "Epoch 46/50\n",
            "Learning rate:  1e-06\n",
            "782/782 [==============================] - 187s 239ms/step - loss: 0.3753 - acc: 0.9328 - val_loss: 0.5333 - val_acc: 0.8837\n",
            "\n",
            "Epoch 00046: val_acc did not improve from 0.88460\n",
            "Epoch 47/50\n",
            "Learning rate:  5e-07\n",
            "782/782 [==============================] - 186s 238ms/step - loss: 0.3784 - acc: 0.9315 - val_loss: 0.5347 - val_acc: 0.8831\n",
            "\n",
            "Epoch 00047: val_acc did not improve from 0.88460\n",
            "Epoch 48/50\n",
            "Learning rate:  5e-07\n",
            "782/782 [==============================] - 189s 241ms/step - loss: 0.3740 - acc: 0.9339 - val_loss: 0.5340 - val_acc: 0.8846\n",
            "\n",
            "Epoch 00048: val_acc did not improve from 0.88460\n",
            "Epoch 49/50\n",
            "Learning rate:  5e-07\n",
            "782/782 [==============================] - 187s 239ms/step - loss: 0.3769 - acc: 0.9298 - val_loss: 0.5340 - val_acc: 0.8846\n",
            "\n",
            "Epoch 00049: val_acc did not improve from 0.88460\n",
            "Epoch 50/50\n",
            "Learning rate:  5e-07\n",
            "782/782 [==============================] - 181s 232ms/step - loss: 0.3772 - acc: 0.9324 - val_loss: 0.5343 - val_acc: 0.8844\n",
            "\n",
            "Epoch 00050: val_acc did not improve from 0.88460\n",
            "10000/10000 [==============================] - 7s 723us/step\n",
            "Test loss: 0.5343394349098206\n",
            "Test accuracy: 0.8844\n"
          ],
          "name": "stdout"
        }
      ]
    },
    {
      "cell_type": "code",
      "metadata": {
        "id": "ejeZPncKwIoo",
        "colab_type": "code",
        "colab": {}
      },
      "source": [
        "# Import PyDrive and associated libraries.\n",
        "# This only needs to be done once in a notebook.\n",
        "from pydrive.auth import GoogleAuth\n",
        "from pydrive.drive import GoogleDrive\n",
        "from google.colab import auth\n",
        "from oauth2client.client import GoogleCredentials\n",
        "\n",
        "# Authenticate and create the PyDrive client.\n",
        "# This only needs to be done once in a notebook.\n",
        "auth.authenticate_user()\n",
        "gauth = GoogleAuth()\n",
        "gauth.credentials = GoogleCredentials.get_application_default()\n",
        "drive = GoogleDrive(gauth)\n",
        "\n"
      ],
      "execution_count": 0,
      "outputs": []
    },
    {
      "cell_type": "code",
      "metadata": {
        "id": "ulCXEHA8wKIe",
        "colab_type": "code",
        "outputId": "313050e5-fe09-418b-b22b-562406233ece",
        "colab": {
          "base_uri": "https://localhost:8080/",
          "height": 219
        }
      },
      "source": [
        "!ls saved_models"
      ],
      "execution_count": 0,
      "outputs": [
        {
          "output_type": "stream",
          "text": [
            "cifar10_ResNet20v2_model.001.h5  cifar10_ResNet20v2_model.021.h5\n",
            "cifar10_ResNet20v2_model.002.h5  cifar10_ResNet20v2_model.022.h5\n",
            "cifar10_ResNet20v2_model.003.h5  cifar10_ResNet20v2_model.030.h5\n",
            "cifar10_ResNet20v2_model.004.h5  cifar10_ResNet20v2_model.032.h5\n",
            "cifar10_ResNet20v2_model.006.h5  cifar10_ResNet20v2_model.033.h5\n",
            "cifar10_ResNet20v2_model.011.h5  cifar10_ResNet20v2_model.034.h5\n",
            "cifar10_ResNet20v2_model.012.h5  cifar10_ResNet20v2_model.037.h5\n",
            "cifar10_ResNet20v2_model.017.h5  cifar10_ResNet20v2_model.038.h5\n",
            "cifar10_ResNet20v2_model.018.h5  cifar10_ResNet20v2_model.039.h5\n",
            "cifar10_ResNet20v2_model.019.h5  cifar10_ResNet20v2_model.042.h5\n",
            "cifar10_ResNet20v2_model.020.h5  cifar10_ResNet20v2_model.045.h5\n"
          ],
          "name": "stdout"
        }
      ]
    },
    {
      "cell_type": "code",
      "metadata": {
        "id": "t8gigYAomVwp",
        "colab_type": "code",
        "colab": {}
      },
      "source": [
        "model_file = drive.CreateFile({'title' : 'saved_models/cifar10_ResNet20v2_model.045.h5'})        \n",
        "model_file.SetContentFile('saved_models/cifar10_ResNet20v2_model.045.h5')\n",
        "model_file.Upload()"
      ],
      "execution_count": 0,
      "outputs": []
    },
    {
      "cell_type": "code",
      "metadata": {
        "id": "KcnLqy3SnVvd",
        "colab_type": "code",
        "colab": {}
      },
      "source": [
        "from keras.applications.vgg16 import VGG16, preprocess_input, decode_predictions\n",
        "from keras.preprocessing import image\n",
        "import numpy as np\n",
        "import cv2"
      ],
      "execution_count": 0,
      "outputs": []
    },
    {
      "cell_type": "code",
      "metadata": {
        "id": "JXh_xEt7nfR0",
        "colab_type": "code",
        "colab": {}
      },
      "source": [
        "model.load_weights('cifar10_ResNet20v2_model.045.h5')\n"
      ],
      "execution_count": 0,
      "outputs": []
    },
    {
      "cell_type": "code",
      "metadata": {
        "id": "HH5DrzClgMGA",
        "colab_type": "code",
        "colab": {}
      },
      "source": [
        "(x_train, y_train), (x_test, y_test) = cifar10.load_data()"
      ],
      "execution_count": 0,
      "outputs": []
    },
    {
      "cell_type": "code",
      "metadata": {
        "id": "l0Dekoy3gu9g",
        "colab_type": "code",
        "colab": {
          "base_uri": "https://localhost:8080/",
          "height": 35
        },
        "outputId": "237570c0-e936-47e6-820a-2bb672229109"
      },
      "source": [
        "import numpy as np\n",
        "indx= np.random.randint(0,10000,10)\n",
        "indx"
      ],
      "execution_count": 19,
      "outputs": [
        {
          "output_type": "execute_result",
          "data": {
            "text/plain": [
              "array([9451, 7469, 7326, 7296, 8924,  353, 4383, 4655, 7338, 3371])"
            ]
          },
          "metadata": {
            "tags": []
          },
          "execution_count": 19
        }
      ]
    },
    {
      "cell_type": "code",
      "metadata": {
        "id": "OgRYT9gdn3s9",
        "colab_type": "code",
        "outputId": "30bb3c58-6f35-4db9-c34d-cf95587819e9",
        "colab": {
          "base_uri": "https://localhost:8080/",
          "height": 1000
        }
      },
      "source": [
        "for n in indx:\n",
        "  preds = model.predict(x_test[n : n+1])\n",
        "  class_idx = np.argmax(preds)\n",
        "  print(class_idx)\n",
        "  class_output = model.output[:, class_idx]\n",
        "  last_conv_layer = model.get_layer(\"conv2d_22\")\n",
        "  grads = K.gradients(class_output, last_conv_layer.output)[0]\n",
        "  print(grads.shape)\n",
        "  pooled_grads = K.mean(grads, axis=(0, 1, 2))\n",
        "  print(pooled_grads.shape)\n",
        "  iterate = K.function([model.input], [pooled_grads, last_conv_layer.output[0]])\n",
        "  pooled_grads_value, conv_layer_output_value = iterate([x_test[n:n+1]])\n",
        "  for i in range(256):\n",
        "    conv_layer_output_value[:, :, i] *= pooled_grads_value[i]\n",
        "  heatmap = np.mean(conv_layer_output_value, axis = -1)\n",
        "  print(conv_layer_output_value.shape)\n",
        "  print(heatmap.shape)\n",
        "  heatmap = np.maximum(heatmap, 0)\n",
        "  heatmap /= np.max(heatmap)\n",
        "  heatmap = cv2.resize(heatmap, (x_test[n].shape[0],x_test[n].shape[1]))\n",
        "  heatmap = np.uint8(255 * heatmap)\n",
        "  heatmap = cv2.applyColorMap(heatmap, cv2.COLORMAP_JET)\n",
        "  superimposed_img = x_test[n]* 0.5+ heatmap* 0.5\n",
        "  from google.colab.patches import cv2_imshow\n",
        "  #cv2_imshow( x_test[n])\n",
        "  #cv2_imshow(superimposed_img)\n",
        "  import matplotlib.pyplot as plt\n",
        "  plt.imshow(x_test[n])\n",
        "  plt.show()\n",
        "  plt.imshow(superimposed_img/255)\n",
        "  plt.show()"
      ],
      "execution_count": 24,
      "outputs": [
        {
          "output_type": "stream",
          "text": [
            "1\n",
            "(?, 8, 8, 256)\n",
            "(256,)\n",
            "(8, 8, 256)\n",
            "(8, 8)\n"
          ],
          "name": "stdout"
        },
        {
          "output_type": "display_data",
          "data": {
            "image/png": "[encoded data removed]",
            "text/plain": [
              "<Figure size 432x288 with 1 Axes>"
            ]
          },
          "metadata": {
            "tags": []
          }
        },
        {
          "output_type": "display_data",
          "data": {
            "image/png": "[encoded data removed]",
            "text/plain": [
              "<Figure size 432x288 with 1 Axes>"
            ]
          },
          "metadata": {
            "tags": []
          }
        },
        {
          "output_type": "stream",
          "text": [
            "1\n",
            "(?, 8, 8, 256)\n",
            "(256,)\n",
            "(8, 8, 256)\n",
            "(8, 8)\n"
          ],
          "name": "stdout"
        },
        {
          "output_type": "stream",
          "text": [
            "/usr/local/lib/python3.6/dist-packages/ipykernel_launcher.py:19: RuntimeWarning: invalid value encountered in true_divide\n"
          ],
          "name": "stderr"
        },
        {
          "output_type": "display_data",
          "data": {
            "image/png": "[encoded data removed]",
            "text/plain": [
              "<Figure size 432x288 with 1 Axes>"
            ]
          },
          "metadata": {
            "tags": []
          }
        },
        {
          "output_type": "display_data",
          "data": {
            "image/png": "[encoded data removed]",
            "text/plain": [
              "<Figure size 432x288 with 1 Axes>"
            ]
          },
          "metadata": {
            "tags": []
          }
        },
        {
          "output_type": "stream",
          "text": [
            "1\n",
            "(?, 8, 8, 256)\n",
            "(256,)\n",
            "(8, 8, 256)\n",
            "(8, 8)\n"
          ],
          "name": "stdout"
        },
        {
          "output_type": "stream",
          "text": [
            "/usr/local/lib/python3.6/dist-packages/ipykernel_launcher.py:19: RuntimeWarning: invalid value encountered in true_divide\n"
          ],
          "name": "stderr"
        },
        {
          "output_type": "display_data",
          "data": {
            "image/png": "[encoded data removed]",
            "text/plain": [
              "<Figure size 432x288 with 1 Axes>"
            ]
          },
          "metadata": {
            "tags": []
          }
        },
        {
          "output_type": "display_data",
          "data": {
            "image/png": "[encoded data removed]",
            "text/plain": [
              "<Figure size 432x288 with 1 Axes>"
            ]
          },
          "metadata": {
            "tags": []
          }
        },
        {
          "output_type": "stream",
          "text": [
            "3\n",
            "(?, 8, 8, 256)\n",
            "(256,)\n",
            "(8, 8, 256)\n",
            "(8, 8)\n"
          ],
          "name": "stdout"
        },
        {
          "output_type": "stream",
          "text": [
            "/usr/local/lib/python3.6/dist-packages/ipykernel_launcher.py:19: RuntimeWarning: invalid value encountered in true_divide\n"
          ],
          "name": "stderr"
        },
        {
          "output_type": "display_data",
          "data": {
            "image/png": "[encoded data removed]",
            "text/plain": [
              "<Figure size 432x288 with 1 Axes>"
            ]
          },
          "metadata": {
            "tags": []
          }
        },
        {
          "output_type": "display_data",
          "data": {
            "image/png": "[encoded data removed]",
            "text/plain": [
              "<Figure size 432x288 with 1 Axes>"
            ]
          },
          "metadata": {
            "tags": []
          }
        },
        {
          "output_type": "stream",
          "text": [
            "3\n",
            "(?, 8, 8, 256)\n",
            "(256,)\n",
            "(8, 8, 256)\n",
            "(8, 8)\n"
          ],
          "name": "stdout"
        },
        {
          "output_type": "stream",
          "text": [
            "/usr/local/lib/python3.6/dist-packages/ipykernel_launcher.py:19: RuntimeWarning: invalid value encountered in true_divide\n"
          ],
          "name": "stderr"
        },
        {
          "output_type": "display_data",
          "data": {
            "image/png": "[encoded data removed]",
            "text/plain": [
              "<Figure size 432x288 with 1 Axes>"
            ]
          },
          "metadata": {
            "tags": []
          }
        },
        {
          "output_type": "display_data",
          "data": {
            "image/png": "[encoded data removed]",
            "text/plain": [
              "<Figure size 432x288 with 1 Axes>"
            ]
          },
          "metadata": {
            "tags": []
          }
        },
        {
          "output_type": "stream",
          "text": [
            "3\n",
            "(?, 8, 8, 256)\n",
            "(256,)\n",
            "(8, 8, 256)\n",
            "(8, 8)\n"
          ],
          "name": "stdout"
        },
        {
          "output_type": "stream",
          "text": [
            "/usr/local/lib/python3.6/dist-packages/ipykernel_launcher.py:19: RuntimeWarning: invalid value encountered in true_divide\n"
          ],
          "name": "stderr"
        },
        {
          "output_type": "display_data",
          "data": {
            "image/png": "[encoded data removed]",
            "text/plain": [
              "<Figure size 432x288 with 1 Axes>"
            ]
          },
          "metadata": {
            "tags": []
          }
        },
        {
          "output_type": "display_data",
          "data": {
            "image/png": "[encoded data removed]",
            "text/plain": [
              "<Figure size 432x288 with 1 Axes>"
            ]
          },
          "metadata": {
            "tags": []
          }
        },
        {
          "output_type": "stream",
          "text": [
            "1\n",
            "(?, 8, 8, 256)\n",
            "(256,)\n",
            "(8, 8, 256)\n",
            "(8, 8)\n"
          ],
          "name": "stdout"
        },
        {
          "output_type": "display_data",
          "data": {
            "image/png": "[encoded data removed]",
            "text/plain": [
              "<Figure size 432x288 with 1 Axes>"
            ]
          },
          "metadata": {
            "tags": []
          }
        },
        {
          "output_type": "display_data",
          "data": {
            "image/png": "[encoded data removed]",
            "text/plain": [
              "<Figure size 432x288 with 1 Axes>"
            ]
          },
          "metadata": {
            "tags": []
          }
        },
        {
          "output_type": "stream",
          "text": [
            "3\n",
            "(?, 8, 8, 256)\n",
            "(256,)\n",
            "(8, 8, 256)\n",
            "(8, 8)\n"
          ],
          "name": "stdout"
        },
        {
          "output_type": "stream",
          "text": [
            "/usr/local/lib/python3.6/dist-packages/ipykernel_launcher.py:19: RuntimeWarning: invalid value encountered in true_divide\n"
          ],
          "name": "stderr"
        },
        {
          "output_type": "display_data",
          "data": {
            "image/png": "[encoded data removed]",
            "text/plain": [
              "<Figure size 432x288 with 1 Axes>"
            ]
          },
          "metadata": {
            "tags": []
          }
        },
        {
          "output_type": "display_data",
          "data": {
            "image/png": "[encoded data removed]",
            "text/plain": [
              "<Figure size 432x288 with 1 Axes>"
            ]
          },
          "metadata": {
            "tags": []
          }
        },
        {
          "output_type": "stream",
          "text": [
            "1\n",
            "(?, 8, 8, 256)\n",
            "(256,)\n",
            "(8, 8, 256)\n",
            "(8, 8)\n"
          ],
          "name": "stdout"
        },
        {
          "output_type": "stream",
          "text": [
            "/usr/local/lib/python3.6/dist-packages/ipykernel_launcher.py:19: RuntimeWarning: invalid value encountered in true_divide\n"
          ],
          "name": "stderr"
        },
        {
          "output_type": "display_data",
          "data": {
            "image/png": "[encoded data removed]",
            "text/plain": [
              "<Figure size 432x288 with 1 Axes>"
            ]
          },
          "metadata": {
            "tags": []
          }
        },
        {
          "output_type": "display_data",
          "data": {
            "image/png": "[encoded data removed]",
            "text/plain": [
              "<Figure size 432x288 with 1 Axes>"
            ]
          },
          "metadata": {
            "tags": []
          }
        },
        {
          "output_type": "stream",
          "text": [
            "3\n",
            "(?, 8, 8, 256)\n",
            "(256,)\n",
            "(8, 8, 256)\n",
            "(8, 8)\n"
          ],
          "name": "stdout"
        },
        {
          "output_type": "stream",
          "text": [
            "/usr/local/lib/python3.6/dist-packages/ipykernel_launcher.py:19: RuntimeWarning: invalid value encountered in true_divide\n"
          ],
          "name": "stderr"
        },
        {
          "output_type": "display_data",
          "data": {
            "image/png": "[encoded data removed]",
            "text/plain": [
              "<Figure size 432x288 with 1 Axes>"
            ]
          },
          "metadata": {
            "tags": []
          }
        },
        {
          "output_type": "display_data",
          "data": {
            "image/png": "[encoded data removed]",
            "text/plain": [
              "<Figure size 432x288 with 1 Axes>"
            ]
          },
          "metadata": {
            "tags": []
          }
        }
      ]
    }
  ]
}